{
 "cells": [
  {
   "cell_type": "code",
   "execution_count": 5,
   "id": "8a6bfe91",
   "metadata": {},
   "outputs": [],
   "source": [
    "import os\n",
    "import matplotlib.pyplot as plt\n",
    "from PIL import Image"
   ]
  },
  {
   "cell_type": "code",
   "execution_count": 31,
   "id": "4b325774",
   "metadata": {},
   "outputs": [
    {
     "data": {
      "image/png": "[encoded data removed]",
      "text/plain": [
       "<Figure size 640x480 with 1 Axes>"
      ]
     },
     "metadata": {},
     "output_type": "display_data"
    }
   ],
   "source": [
    "fig1 = \"/mmfs1/project/cliu/cy322/projects/ImageDesmoke/saved/evaluation/base_model/inputs/33.png\"\n",
    "fig1 = Image.open(fig1)\n",
    "filename = \"visual.png\"\n",
    "plt.axis('off')\n",
    "\n",
    "choosen = [4,6,2,69,83]\n",
    "\n",
    "fig, ax = plt.subplots(5,5 ,figsize=(7, 3.5))\n",
    "plt.subplots_adjust(\n",
    "    wspace=0.01,  # Horizontal space between plots\n",
    "    hspace=0.01   # Vertical space between plots\n",
    ")\n",
    "\n",
    "for j in range(0,5):\n",
    "    input = f\"/mmfs1/project/cliu/cy322/projects/ImageDesmoke/saved/evaluation/base_model/inputs/{choosen[j]}.png\"\n",
    "    input = Image.open(input)\n",
    "    target = f\"/mmfs1/project/cliu/cy322/projects/ImageDesmoke/saved/evaluation/base_model/targets/{choosen[j]}.png\"\n",
    "    target = Image.open(target)\n",
    "    base_model = f\"/mmfs1/project/cliu/cy322/projects/ImageDesmoke/saved/evaluation/base_model/outputs/{choosen[j]}.png\"\n",
    "    base_model = Image.open(base_model)\n",
    "    our_method = f\"/mmfs1/project/cliu/cy322/projects/ImageDesmoke/saved/evaluation/our_method/outputs/{choosen[j]}.png\"\n",
    "    our_method = Image.open(our_method)\n",
    "    pix2pix = f\"/mmfs1/project/cliu/cy322/projects/ImageDesmoke/saved/evaluation/cycle_gan/outputs/{choosen[j]+1}_fake_B.png\"\n",
    "    pix2pix = Image.open(pix2pix)\n",
    "    ax[0][j].imshow(input)\n",
    "    ax[0][j].axis('off')\n",
    "    ax[1][j].imshow(target)\n",
    "    ax[1][j].axis('off')\n",
    "    ax[2][j].imshow(base_model)\n",
    "    ax[2][j].axis('off')\n",
    "    ax[3][j].imshow(pix2pix)\n",
    "    ax[3][j].axis('off')\n",
    "    ax[4][j].imshow(our_method)\n",
    "    ax[4][j].axis('off')\n",
    "\n",
    "\n",
    "\n",
    "# for i in range(3,5):\n",
    "#     for j in range(0,5):\n",
    "\n",
    "#         ax[i][j].imshow(fig1)\n",
    "#         ax[i][j].axis('off')\n",
    "\n",
    "plt.savefig(filename)\n",
    "plt.close()\n"
   ]
  }
 ],
 "metadata": {
  "kernelspec": {
   "display_name": "py12",
   "language": "python",
   "name": "python3"
  },
  "language_info": {
   "codemirror_mode": {
    "name": "ipython",
    "version": 3
   },
   "file_extension": ".py",
   "mimetype": "text/x-python",
   "name": "python",
   "nbconvert_exporter": "python",
   "pygments_lexer": "ipython3",
   "version": "3.12.7"
  }
 },
 "nbformat": 4,
 "nbformat_minor": 5
}
