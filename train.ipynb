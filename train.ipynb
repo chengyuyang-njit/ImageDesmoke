{
 "cells": [
  {
   "cell_type": "code",
   "execution_count": 1,
   "metadata": {},
   "outputs": [],
   "source": [
    "import argparse\n",
    "import torch\n",
    "import dataloader"
   ]
  },
  {
   "cell_type": "code",
   "execution_count": 2,
   "metadata": {},
   "outputs": [],
   "source": [
    "from torchvision.transforms import ToTensor"
   ]
  },
  {
   "cell_type": "code",
   "execution_count": 3,
   "metadata": {},
   "outputs": [],
   "source": [
    "from torch.utils.data import random_split"
   ]
  },
  {
   "cell_type": "code",
   "execution_count": 4,
   "metadata": {},
   "outputs": [],
   "source": [
    "from torch.utils.data import DataLoader"
   ]
  },
  {
   "cell_type": "code",
   "execution_count": 5,
   "metadata": {},
   "outputs": [],
   "source": [
    "import unet"
   ]
  },
  {
   "cell_type": "code",
   "execution_count": 6,
   "metadata": {},
   "outputs": [],
   "source": [
    "from unet.unet_model import UNet"
   ]
  },
  {
   "cell_type": "code",
   "execution_count": 9,
   "metadata": {},
   "outputs": [],
   "source": [
    "from torchvision import models\n",
    "from torchsummary import summary"
   ]
  },
  {
   "cell_type": "code",
   "execution_count": 10,
   "metadata": {},
   "outputs": [
    {
     "data": {
      "text/plain": [
       "True"
      ]
     },
     "execution_count": 10,
     "metadata": {},
     "output_type": "execute_result"
    }
   ],
   "source": [
    "torch.cuda.is_available()"
   ]
  },
  {
   "cell_type": "code",
   "execution_count": 11,
   "metadata": {},
   "outputs": [
    {
     "name": "stderr",
     "output_type": "stream",
     "text": [
      "usage: ipykernel_launcher.py [-h] -m MODEL -p PLOT\n",
      "ipykernel_launcher.py: error: the following arguments are required: -m/--model, -p/--plot\n"
     ]
    },
    {
     "ename": "SystemExit",
     "evalue": "2",
     "output_type": "error",
     "traceback": [
      "An exception has occurred, use %tb to see the full traceback.\n",
      "\u001b[1;31mSystemExit\u001b[0m\u001b[1;31m:\u001b[0m 2\n"
     ]
    }
   ],
   "source": [
    "ap = argparse.ArgumentParser()\n",
    "ap.add_argument(\"-m\", \"--model\", type = str, required = True,\n",
    "                help = \"path to output trained model\")\n",
    "ap.add_argument(\"-p\", \"--plot\", type = str, required = True,\n",
    "                help = \"path to output loss/accuracy plot\")\n",
    "args = vars(ap.parse_args())\n"
   ]
  },
  {
   "cell_type": "code",
   "execution_count": 13,
   "metadata": {},
   "outputs": [],
   "source": [
    "# define training parameters\n",
    "INIT_LR = 1e-3\n",
    "BATCH_SIZE = 1\n",
    "EPOCHS = 10\n",
    "\n",
    "# define the train and val splits\n",
    "TRAIN_SPLIT = 0.8\n",
    "VAL_SPLIT = 0.1\n",
    "TEST_SPLIT = 0.1\n",
    "\n",
    "# set the device we will be using to train the model\n",
    "device = torch.device(\"cuda\" if torch.cuda.is_available() else \"cpu\")"
   ]
  },
  {
   "cell_type": "code",
   "execution_count": 20,
   "metadata": {},
   "outputs": [
    {
     "name": "stdout",
     "output_type": "stream",
     "text": [
      "[INFO] loading the paired desmoke image dataset...\n"
     ]
    }
   ],
   "source": [
    "# load the dataset\n",
    "print(\"[INFO] loading the paired desmoke image dataset...\")\n",
    "dataset = dataloader.PairedSmokeImageDataset(\n",
    "    csv_file = '..\\\\..\\\\datasets\\\\DesmokeData-paired\\\\DesmokeData-main\\\\images\\\\paired_images.csv',\n",
    "    root_dir = '..\\\\..\\\\datasets\\\\DesmokeData-paired\\\\DesmokeData-main\\\\images\\\\dataset',\n",
    "    transform = ToTensor())\n",
    "\n",
    "num_train_samples = int(len(dataset) * TRAIN_SPLIT) + 1\n",
    "num_val_samples = int(len(dataset) * VAL_SPLIT)\n",
    "num_test_samples = int(len(dataset) * TEST_SPLIT)\n",
    "\n",
    "# print(num_train_samples)\n",
    "# print(num_val_samples)\n",
    "# print(num_test_samples)\n",
    "\n",
    "(train_data, val_data, test_data) = random_split(dataset, [num_train_samples, num_val_samples, num_test_samples],\n",
    "                                                 generator=torch.Generator().manual_seed(42))\n",
    "# print(len(train_data))\n",
    "# print(len(val_data))\n",
    "# print(len(test_data))\n",
    "\n",
    "\n"
   ]
  },
  {
   "cell_type": "code",
   "execution_count": 21,
   "metadata": {},
   "outputs": [],
   "source": [
    "# initialize the train, validation and test data loaders\n",
    "train_dataloader = DataLoader(train_data, shuffle = True, batch_size = BATCH_SIZE)\n",
    "val_dataloader = DataLoader(val_data, batch_size = BATCH_SIZE)\n",
    "test_dataloader = DataLoader(test_data, batch_size = BATCH_SIZE)\n",
    "\n",
    "# calculate steps per epoch for training and validation set\n",
    "train_steps = len(train_dataloader.dataset) // BATCH_SIZE\n",
    "val_steps = len(val_dataloader.dataset) // BATCH_SIZE"
   ]
  },
  {
   "cell_type": "code",
   "execution_count": 22,
   "metadata": {},
   "outputs": [
    {
     "name": "stdout",
     "output_type": "stream",
     "text": [
      "[INFO] initializing the U-Net model ...\n"
     ]
    }
   ],
   "source": [
    "# initialize the u-net model\n",
    "print(\"[INFO] initializing the U-Net model ...\")\n",
    "# model = UNet()"
   ]
  },
  {
   "cell_type": "code",
   "execution_count": 23,
   "metadata": {},
   "outputs": [
    {
     "name": "stdout",
     "output_type": "stream",
     "text": [
      "----------------------------------------------------------------\n",
      "        Layer (type)               Output Shape         Param #\n",
      "================================================================\n",
      "            Conv2d-1         [-1, 64, 700, 350]           1,728\n",
      "       BatchNorm2d-2         [-1, 64, 700, 350]             128\n",
      "              ReLU-3         [-1, 64, 700, 350]               0\n",
      "            Conv2d-4         [-1, 64, 700, 350]          36,864\n",
      "       BatchNorm2d-5         [-1, 64, 700, 350]             128\n",
      "              ReLU-6         [-1, 64, 700, 350]               0\n",
      "        DoubleConv-7         [-1, 64, 700, 350]               0\n",
      "         MaxPool2d-8         [-1, 64, 350, 175]               0\n",
      "            Conv2d-9        [-1, 128, 350, 175]          73,728\n",
      "      BatchNorm2d-10        [-1, 128, 350, 175]             256\n",
      "             ReLU-11        [-1, 128, 350, 175]               0\n",
      "           Conv2d-12        [-1, 128, 350, 175]         147,456\n",
      "      BatchNorm2d-13        [-1, 128, 350, 175]             256\n",
      "             ReLU-14        [-1, 128, 350, 175]               0\n",
      "       DoubleConv-15        [-1, 128, 350, 175]               0\n",
      "             Down-16        [-1, 128, 350, 175]               0\n",
      "        MaxPool2d-17         [-1, 128, 175, 87]               0\n",
      "           Conv2d-18         [-1, 256, 175, 87]         294,912\n",
      "      BatchNorm2d-19         [-1, 256, 175, 87]             512\n",
      "             ReLU-20         [-1, 256, 175, 87]               0\n",
      "           Conv2d-21         [-1, 256, 175, 87]         589,824\n",
      "      BatchNorm2d-22         [-1, 256, 175, 87]             512\n",
      "             ReLU-23         [-1, 256, 175, 87]               0\n",
      "       DoubleConv-24         [-1, 256, 175, 87]               0\n",
      "             Down-25         [-1, 256, 175, 87]               0\n",
      "        MaxPool2d-26          [-1, 256, 87, 43]               0\n",
      "           Conv2d-27          [-1, 512, 87, 43]       1,179,648\n",
      "      BatchNorm2d-28          [-1, 512, 87, 43]           1,024\n",
      "             ReLU-29          [-1, 512, 87, 43]               0\n",
      "           Conv2d-30          [-1, 512, 87, 43]       2,359,296\n",
      "      BatchNorm2d-31          [-1, 512, 87, 43]           1,024\n",
      "             ReLU-32          [-1, 512, 87, 43]               0\n",
      "       DoubleConv-33          [-1, 512, 87, 43]               0\n",
      "             Down-34          [-1, 512, 87, 43]               0\n",
      "        MaxPool2d-35          [-1, 512, 43, 21]               0\n",
      "           Conv2d-36         [-1, 1024, 43, 21]       4,718,592\n",
      "      BatchNorm2d-37         [-1, 1024, 43, 21]           2,048\n",
      "             ReLU-38         [-1, 1024, 43, 21]               0\n",
      "           Conv2d-39         [-1, 1024, 43, 21]       9,437,184\n",
      "      BatchNorm2d-40         [-1, 1024, 43, 21]           2,048\n",
      "             ReLU-41         [-1, 1024, 43, 21]               0\n",
      "       DoubleConv-42         [-1, 1024, 43, 21]               0\n",
      "             Down-43         [-1, 1024, 43, 21]               0\n",
      "  ConvTranspose2d-44          [-1, 512, 86, 42]       2,097,664\n",
      "           Conv2d-45          [-1, 512, 87, 43]       4,718,592\n",
      "      BatchNorm2d-46          [-1, 512, 87, 43]           1,024\n",
      "             ReLU-47          [-1, 512, 87, 43]               0\n",
      "           Conv2d-48          [-1, 512, 87, 43]       2,359,296\n",
      "      BatchNorm2d-49          [-1, 512, 87, 43]           1,024\n",
      "             ReLU-50          [-1, 512, 87, 43]               0\n",
      "       DoubleConv-51          [-1, 512, 87, 43]               0\n",
      "               Up-52          [-1, 512, 87, 43]               0\n",
      "  ConvTranspose2d-53         [-1, 256, 174, 86]         524,544\n",
      "           Conv2d-54         [-1, 256, 175, 87]       1,179,648\n",
      "      BatchNorm2d-55         [-1, 256, 175, 87]             512\n",
      "             ReLU-56         [-1, 256, 175, 87]               0\n",
      "           Conv2d-57         [-1, 256, 175, 87]         589,824\n",
      "      BatchNorm2d-58         [-1, 256, 175, 87]             512\n",
      "             ReLU-59         [-1, 256, 175, 87]               0\n",
      "       DoubleConv-60         [-1, 256, 175, 87]               0\n",
      "               Up-61         [-1, 256, 175, 87]               0\n",
      "  ConvTranspose2d-62        [-1, 128, 350, 174]         131,200\n",
      "           Conv2d-63        [-1, 128, 350, 175]         294,912\n",
      "      BatchNorm2d-64        [-1, 128, 350, 175]             256\n",
      "             ReLU-65        [-1, 128, 350, 175]               0\n",
      "           Conv2d-66        [-1, 128, 350, 175]         147,456\n",
      "      BatchNorm2d-67        [-1, 128, 350, 175]             256\n",
      "             ReLU-68        [-1, 128, 350, 175]               0\n",
      "       DoubleConv-69        [-1, 128, 350, 175]               0\n",
      "               Up-70        [-1, 128, 350, 175]               0\n",
      "  ConvTranspose2d-71         [-1, 64, 700, 350]          32,832\n",
      "           Conv2d-72         [-1, 64, 700, 350]          73,728\n",
      "      BatchNorm2d-73         [-1, 64, 700, 350]             128\n",
      "             ReLU-74         [-1, 64, 700, 350]               0\n",
      "           Conv2d-75         [-1, 64, 700, 350]          36,864\n",
      "      BatchNorm2d-76         [-1, 64, 700, 350]             128\n",
      "             ReLU-77         [-1, 64, 700, 350]               0\n",
      "       DoubleConv-78         [-1, 64, 700, 350]               0\n",
      "               Up-79         [-1, 64, 700, 350]               0\n",
      "           Conv2d-80          [-1, 2, 700, 350]             130\n",
      "          OutConv-81          [-1, 2, 700, 350]               0\n",
      "================================================================\n",
      "Total params: 31,037,698\n",
      "Trainable params: 31,037,698\n",
      "Non-trainable params: 0\n",
      "----------------------------------------------------------------\n",
      "Input size (MB): 2.80\n",
      "Forward/backward pass size (MB): 3803.02\n",
      "Params size (MB): 118.40\n",
      "Estimated Total Size (MB): 3924.22\n",
      "----------------------------------------------------------------\n"
     ]
    }
   ],
   "source": [
    "unet = UNet(n_channels=3, n_classes=2).cuda()\n",
    "summary(unet, (3,700,350))"
   ]
  }
 ],
 "metadata": {
  "kernelspec": {
   "display_name": "Python 3",
   "language": "python",
   "name": "python3"
  },
  "language_info": {
   "codemirror_mode": {
    "name": "ipython",
    "version": 3
   },
   "file_extension": ".py",
   "mimetype": "text/x-python",
   "name": "python",
   "nbconvert_exporter": "python",
   "pygments_lexer": "ipython3",
   "version": "3.9.19"
  }
 },
 "nbformat": 4,
 "nbformat_minor": 2
}
