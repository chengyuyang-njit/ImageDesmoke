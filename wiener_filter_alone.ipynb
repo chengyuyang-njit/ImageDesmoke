{
 "cells": [
  {
   "cell_type": "code",
   "execution_count": 3,
   "metadata": {},
   "outputs": [],
   "source": [
    "# Test Wiener Filter's performance for dehazing images alone\n",
    "\n",
    "import cv2\n",
    "import os\n",
    "import numpy as np\n",
    "import scipy\n",
    "from scipy.signal import convolve\n",
    "\n",
    "def psnr(im1, im2):\n",
    "    mse = np.mean((im1-im2)**2)\n",
    "    if mse == 0:\n",
    "        return 100\n",
    "    return 20 * np.log10(255 / np.sqrt(mse))\n",
    "\n",
    "def ssim(im1, im2):\n",
    "    from skimage.measure import compare_ssim\n",
    "    if im1.dtype!=im2.dtype:\n",
    "        im1 = np.int64(im1)\n",
    "        im2 = np.int64(im2)\n",
    "    if im1.shape>1:\n",
    "        return compare_ssim(im1, im2, multichannel=True)\n",
    "    else:\n",
    "        return compare_ssim(im1,im2)"
   ]
  }
 ],
 "metadata": {
  "kernelspec": {
   "display_name": "Python 3",
   "language": "python",
   "name": "python3"
  },
  "language_info": {
   "codemirror_mode": {
    "name": "ipython",
    "version": 3
   },
   "file_extension": ".py",
   "mimetype": "text/x-python",
   "name": "python",
   "nbconvert_exporter": "python",
   "pygments_lexer": "ipython3",
   "version": "3.12.7"
  }
 },
 "nbformat": 4,
 "nbformat_minor": 2
}
