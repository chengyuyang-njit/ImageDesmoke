{
 "cells": [
  {
   "cell_type": "code",
   "execution_count": 1,
   "metadata": {},
   "outputs": [],
   "source": [
    "# Test Wiener Filter's performance for dehazing images alone\n",
    "\n",
    "import cv2\n",
    "import os\n",
    "import numpy as np\n",
    "import scipy\n",
    "from scipy.signal import convolve"
   ]
  },
  {
   "cell_type": "code",
   "execution_count": 2,
   "metadata": {},
   "outputs": [],
   "source": [
    "def psnr(im1, im2):\n",
    "    mse = np.mean((im1-im2)**2)\n",
    "    if mse == 0:\n",
    "        return 100\n",
    "    return 20 * np.log10(255 / np.sqrt(mse))\n",
    "\n",
    "def ssim(im1, im2):\n",
    "    from skimage.measure import compare_ssim\n",
    "    if im1.dtype!=im2.dtype:\n",
    "        im1 = np.int64(im1)\n",
    "        im2 = np.int64(im2)\n",
    "    if im1.shape>1:\n",
    "        return compare_ssim(im1, im2, multichannel=True)\n",
    "    else:\n",
    "        return compare_ssim(im1,im2)"
   ]
  },
  {
   "cell_type": "code",
   "execution_count": 3,
   "metadata": {},
   "outputs": [
    {
     "ename": "AttributeError",
     "evalue": "'NoneType' object has no attribute 'astype'",
     "output_type": "error",
     "traceback": [
      "\u001b[1;31m---------------------------------------------------------------------------\u001b[0m",
      "\u001b[1;31mAttributeError\u001b[0m                            Traceback (most recent call last)",
      "Cell \u001b[1;32mIn[3], line 47\u001b[0m\n\u001b[0;32m     45\u001b[0m \u001b[38;5;66;03m# Load and dehaze an image\u001b[39;00m\n\u001b[0;32m     46\u001b[0m image_path \u001b[38;5;241m=\u001b[39m \u001b[38;5;124m\"\u001b[39m\u001b[38;5;124mhazy_image.jpg\u001b[39m\u001b[38;5;124m\"\u001b[39m\n\u001b[1;32m---> 47\u001b[0m dehazed_image \u001b[38;5;241m=\u001b[39m \u001b[43mdehaze_image\u001b[49m\u001b[43m(\u001b[49m\u001b[43mimage_path\u001b[49m\u001b[43m)\u001b[49m\n\u001b[0;32m     49\u001b[0m \u001b[38;5;66;03m# Save or display the dehazed image\u001b[39;00m\n\u001b[0;32m     50\u001b[0m cv2\u001b[38;5;241m.\u001b[39mimwrite(\u001b[38;5;124m\"\u001b[39m\u001b[38;5;124mdehazed_image.jpg\u001b[39m\u001b[38;5;124m\"\u001b[39m, dehazed_image)\n",
      "Cell \u001b[1;32mIn[3], line 37\u001b[0m, in \u001b[0;36mdehaze_image\u001b[1;34m(image_path)\u001b[0m\n\u001b[0;32m     35\u001b[0m \u001b[38;5;28;01mdef\u001b[39;00m \u001b[38;5;21mdehaze_image\u001b[39m(image_path):\n\u001b[0;32m     36\u001b[0m \u001b[38;5;250m    \u001b[39m\u001b[38;5;124;03m\"\"\"Perform image dehazing using the Wiener filter.\"\"\"\u001b[39;00m\n\u001b[1;32m---> 37\u001b[0m     img \u001b[38;5;241m=\u001b[39m \u001b[43mcv2\u001b[49m\u001b[38;5;241;43m.\u001b[39;49m\u001b[43mimread\u001b[49m\u001b[43m(\u001b[49m\u001b[43mimage_path\u001b[49m\u001b[43m)\u001b[49m\u001b[38;5;241;43m.\u001b[39;49m\u001b[43mastype\u001b[49m(np\u001b[38;5;241m.\u001b[39mfloat32) \u001b[38;5;241m/\u001b[39m \u001b[38;5;241m255.0\u001b[39m\n\u001b[0;32m     38\u001b[0m     dark \u001b[38;5;241m=\u001b[39m dark_channel(img)\n\u001b[0;32m     39\u001b[0m     A \u001b[38;5;241m=\u001b[39m estimate_atmospheric_light(img, dark)\n",
      "\u001b[1;31mAttributeError\u001b[0m: 'NoneType' object has no attribute 'astype'"
     ]
    }
   ],
   "source": [
    "import numpy as np\n",
    "import cv2\n",
    "from scipy.signal import wiener\n",
    "\n",
    "def estimate_atmospheric_light(img, dark_channel):\n",
    "    \"\"\"Estimate atmospheric light using the brightest pixels in the dark channel.\"\"\"\n",
    "    h, w = dark_channel.shape\n",
    "    num_pixels = max(1, (h * w) // 1000)  # Top 0.1% brightest pixels\n",
    "    flat_dark = dark_channel.flatten()\n",
    "    flat_img = img.reshape(-1, 3)\n",
    "    indices = np.argsort(flat_dark)[-num_pixels:]\n",
    "    return np.mean(flat_img[indices], axis=0)\n",
    "\n",
    "def dark_channel(img, patch_size=15):\n",
    "    \"\"\"Compute the dark channel of the image.\"\"\"\n",
    "    min_channel = np.min(img, axis=2)\n",
    "    kernel = cv2.getStructuringElement(cv2.MORPH_RECT, (patch_size, patch_size))\n",
    "    return cv2.erode(min_channel, kernel)\n",
    "\n",
    "def estimate_transmission(img, A, omega=0.95):\n",
    "    \"\"\"Estimate the transmission map.\"\"\"\n",
    "    norm_img = img / A\n",
    "    return 1 - omega * dark_channel(norm_img)\n",
    "\n",
    "def apply_wiener_filter(transmission, kernel_size=(5,5)):\n",
    "    \"\"\"Refine the transmission map using the Wiener filter.\"\"\"\n",
    "    return wiener(transmission, kernel_size)\n",
    "\n",
    "def recover_image(img, t, A, t_min=0.1):\n",
    "    \"\"\"Recover the dehazed image using the refined transmission map.\"\"\"\n",
    "    t = np.maximum(t, t_min)\n",
    "    J = (img - A) / t[..., np.newaxis] + A\n",
    "    return np.clip(J * 255, 0, 255).astype(np.uint8)\n",
    "\n",
    "def dehaze_image(image_path):\n",
    "    \"\"\"Perform image dehazing using the Wiener filter.\"\"\"\n",
    "    img = cv2.imread(image_path).astype(np.float32) / 255.0\n",
    "    dark = dark_channel(img)\n",
    "    A = estimate_atmospheric_light(img, dark)\n",
    "    t = estimate_transmission(img, A)\n",
    "    t_refined = apply_wiener_filter(t)\n",
    "    dehazed = recover_image(img, t_refined, A)\n",
    "    return dehazed\n",
    "\n",
    "# Load and dehaze an image\n",
    "image_path = \"hazy_image.jpg\"\n",
    "dehazed_image = dehaze_image(image_path)\n",
    "\n",
    "# Save or display the dehazed image\n",
    "cv2.imwrite(\"dehazed_image.jpg\", dehazed_image)\n"
   ]
  }
 ],
 "metadata": {
  "kernelspec": {
   "display_name": "Python 3",
   "language": "python",
   "name": "python3"
  },
  "language_info": {
   "codemirror_mode": {
    "name": "ipython",
    "version": 3
   },
   "file_extension": ".py",
   "mimetype": "text/x-python",
   "name": "python",
   "nbconvert_exporter": "python",
   "pygments_lexer": "ipython3",
   "version": "3.9.19"
  }
 },
 "nbformat": 4,
 "nbformat_minor": 2
}
